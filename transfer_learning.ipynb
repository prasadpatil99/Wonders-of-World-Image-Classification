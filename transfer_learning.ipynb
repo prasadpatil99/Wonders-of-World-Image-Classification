{
 "cells": [
  {
   "cell_type": "markdown",
   "metadata": {},
   "source": [
    "# Google Colaboratary"
   ]
  },
  {
   "cell_type": "markdown",
   "metadata": {},
   "source": [
    "Mounting Google Drive "
   ]
  },
  {
   "cell_type": "code",
   "execution_count": 47,
   "metadata": {
    "colab": {
     "base_uri": "https://localhost:8080/",
     "height": 35
    },
    "colab_type": "code",
    "id": "_yoXhppO4CQQ",
    "outputId": "c8d7a955-2e59-4203-d90e-d7cf645a8d83"
   },
   "outputs": [
    {
     "name": "stdout",
     "output_type": "stream",
     "text": [
      "Drive already mounted at /content/gdrive; to attempt to forcibly remount, call drive.mount(\"/content/gdrive\", force_remount=True).\n"
     ]
    }
   ],
   "source": [
    "from google.colab import drive\n",
    "drive.mount('/content/gdrive')"
   ]
  },
  {
   "cell_type": "code",
   "execution_count": 0,
   "metadata": {
    "colab": {},
    "colab_type": "code",
    "id": "wjUcUuOs4MOl"
   },
   "outputs": [],
   "source": [
    "from pathlib import Path\n",
    "import os\n",
    "import matplotlib.pyplot as plt\n",
    "import cv2\n",
    "import glob\n",
    "import tensorflow as tf\n",
    "from scipy.misc import imread\n",
    "from tqdm import tqdm\n",
    "from PIL import Image\n",
    "from numpy import*\n",
    "\n",
    "train_path = Path(\"/content/gdrive/My Drive/Colab Notebooks/datasetimg/Google Images/train\")\n",
    "val_path = Path(\"/content/gdrive/My Drive/Colab Notebooks/datasetimg/Google Images/val\")"
   ]
  },
  {
   "cell_type": "code",
   "execution_count": 49,
   "metadata": {
    "colab": {
     "base_uri": "https://localhost:8080/",
     "height": 344
    },
    "colab_type": "code",
    "id": "WF3mh_yr4OJj",
    "outputId": "7076a6a6-3d4b-4287-f8ce-7cace5331dcc"
   },
   "outputs": [
    {
     "data": {
      "text/plain": [
       "['Burj Khalifa - UAE',\n",
       " 'Eiffel Tower - Paris',\n",
       " 'Machu Pichu',\n",
       " 'Great Wall Of China - China',\n",
       " 'Himalaya - India',\n",
       " 'Christ the Reedemer Statue',\n",
       " 'Chich-n Itz - Mexico',\n",
       " 'Antarctica',\n",
       " 'Giant-s Causeway',\n",
       " 'The Blue Grotto - Capri',\n",
       " 'Stonehenge',\n",
       " 'Niagara Falls',\n",
       " 'Taj Mahal - India',\n",
       " 'Pyramids Of Giza - Egypt',\n",
       " 'Venezuela Angel Falls',\n",
       " 'Santorini',\n",
       " 'Roman Colosseum - Rome',\n",
       " 'Statue Of Liberty - NYC']"
      ]
     },
     "execution_count": 49,
     "metadata": {
      "tags": []
     },
     "output_type": "execute_result"
    }
   ],
   "source": [
    "data_list = os.listdir(train_path)\n",
    "data_list"
   ]
  },
  {
   "cell_type": "markdown",
   "metadata": {},
   "source": [
    "Resizing image"
   ]
  },
  {
   "cell_type": "code",
   "execution_count": 0,
   "metadata": {
    "colab": {},
    "colab_type": "code",
    "id": "zCVghBPVR4n_"
   },
   "outputs": [],
   "source": [
    "IMAGE_SIZE = [250, 250]"
   ]
  },
  {
   "cell_type": "markdown",
   "metadata": {},
   "source": [
    "Adding preprocessing layer to vgg16<br>\n",
    "Defining 'imagenet' weights<br>\n",
    "Excluding last layer from model"
   ]
  },
  {
   "cell_type": "code",
   "execution_count": 0,
   "metadata": {
    "colab": {},
    "colab_type": "code",
    "id": "9ZD5aSwBSEL2"
   },
   "outputs": [],
   "source": [
    "from keras.applications.vgg16 import VGG16\n",
    "from keras.applications.vgg16 import preprocess_input\n",
    "\n",
    "vgg = VGG16(input_shape=IMAGE_SIZE + [3], weights='imagenet', include_top=False)"
   ]
  },
  {
   "cell_type": "markdown",
   "metadata": {},
   "source": [
    "Disabling existing trained weights from model"
   ]
  },
  {
   "cell_type": "code",
   "execution_count": 0,
   "metadata": {
    "colab": {},
    "colab_type": "code",
    "id": "Cylm-NVsSG4C"
   },
   "outputs": [],
   "source": [
    "for layer in vgg.layers:\n",
    "    layer.trainable = False"
   ]
  },
  {
   "cell_type": "code",
   "execution_count": null,
   "metadata": {},
   "outputs": [],
   "source": [
    "from keras.preprocessing.image import ImageDataGenerator\n",
    "from keras.models import Sequential\n",
    "from keras.layers import Flatten, Dense"
   ]
  },
  {
   "cell_type": "markdown",
   "metadata": {},
   "source": [
    "Flatten all layers so far "
   ]
  },
  {
   "cell_type": "code",
   "execution_count": 0,
   "metadata": {
    "colab": {},
    "colab_type": "code",
    "id": "k5bxZX3bSUTM"
   },
   "outputs": [],
   "source": [
    "x = Flatten()(vgg.output)"
   ]
  },
  {
   "cell_type": "markdown",
   "metadata": {},
   "source": [
    "Add last layer as dense layer with the length of data"
   ]
  },
  {
   "cell_type": "code",
   "execution_count": null,
   "metadata": {
    "colab": {},
    "colab_type": "code",
    "id": "yDW_kBRtSfiV"
   },
   "outputs": [],
   "source": [
    "prediction = Dense(len(data_list), activation='softmax')(x)"
   ]
  },
  {
   "cell_type": "markdown",
   "metadata": {},
   "source": [
    "Creating Model's object"
   ]
  },
  {
   "cell_type": "code",
   "execution_count": 0,
   "metadata": {
    "colab": {},
    "colab_type": "code",
    "id": "wH1sEfCUStbS"
   },
   "outputs": [],
   "source": [
    "from keras.models import Model\n",
    "model = Model(inputs=vgg.input, outputs=prediction)"
   ]
  },
  {
   "cell_type": "markdown",
   "metadata": {},
   "source": [
    "Compiling.."
   ]
  },
  {
   "cell_type": "code",
   "execution_count": 0,
   "metadata": {
    "colab": {},
    "colab_type": "code",
    "id": "FSdbrpelTN4F"
   },
   "outputs": [],
   "source": [
    "model.compile(\n",
    "  loss='categorical_crossentropy',\n",
    "  optimizer='adam',\n",
    "  metrics=['accuracy']\n",
    ")"
   ]
  },
  {
   "cell_type": "code",
   "execution_count": 0,
   "metadata": {
    "colab": {},
    "colab_type": "code",
    "id": "9lr4rtizTTT2"
   },
   "outputs": [],
   "source": [
    "from keras.preprocessing.image import ImageDataGenerator\n",
    "\n",
    "train_datagen = ImageDataGenerator(rescale = 1./255,\n",
    "            rotation_range=9, # randomly rotate images in the range (degrees, 0 to 180)\n",
    "            zoom_range = 0.1, # Randomly zoom image \n",
    "            width_shift_range=0.2,  # randomly shift images horizontally \n",
    "            height_shift_range=0.2)  # randomly shift images vertically \n",
    "\n",
    "val_datagen = ImageDataGenerator(rescale = 1./255)"
   ]
  },
  {
   "cell_type": "markdown",
   "metadata": {},
   "source": [
    "Providing training and validation directory path, target size, batch size, class mode"
   ]
  },
  {
   "cell_type": "code",
   "execution_count": 59,
   "metadata": {
    "colab": {
     "base_uri": "https://localhost:8080/",
     "height": 35
    },
    "colab_type": "code",
    "id": "-mSS4m17TZu2",
    "outputId": "a7ef488b-c7be-417d-e304-02b25c677db2"
   },
   "outputs": [
    {
     "name": "stdout",
     "output_type": "stream",
     "text": [
      "Found 2872 images belonging to 18 classes.\n"
     ]
    }
   ],
   "source": [
    "training_set = train_datagen.flow_from_directory('/content/gdrive/My Drive/Colab Notebooks/datasetimg/Google Images/train',\n",
    "                                                 target_size = (250, 250),\n",
    "                                                 batch_size = 32,   \n",
    "                                                 class_mode = 'categorical')"
   ]
  },
  {
   "cell_type": "code",
   "execution_count": 60,
   "metadata": {
    "colab": {
     "base_uri": "https://localhost:8080/",
     "height": 35
    },
    "colab_type": "code",
    "id": "SQBlIF6TTgtw",
    "outputId": "104b0bdf-77ad-421e-f7e0-197867c14b8f"
   },
   "outputs": [
    {
     "name": "stdout",
     "output_type": "stream",
     "text": [
      "Found 762 images belonging to 18 classes.\n"
     ]
    }
   ],
   "source": [
    "test_set = val_datagen.flow_from_directory('/content/gdrive/My Drive/Colab Notebooks/datasetimg/Google Images/val',\n",
    "                                            target_size = (250, 250),\n",
    "                                            batch_size = 32,\n",
    "                                            class_mode = 'categorical')"
   ]
  },
  {
   "cell_type": "code",
   "execution_count": 0,
   "metadata": {
    "colab": {},
    "colab_type": "code",
    "id": "N30wCMZPSaLG"
   },
   "outputs": [],
   "source": [
    "#if interrupted with 'OS Error: Trunc Error'\n",
    "#from PIL import ImageFile\n",
    "#ImageFile.LOAD_TRUNCATED_IMAGES = True"
   ]
  },
  {
   "cell_type": "markdown",
   "metadata": {},
   "source": [
    "Fitting Model"
   ]
  },
  {
   "cell_type": "code",
   "execution_count": 63,
   "metadata": {
    "colab": {
     "base_uri": "https://localhost:8080/",
     "height": 562
    },
    "colab_type": "code",
    "id": "f38KcYB0WIOP",
    "outputId": "dec58021-39ba-48c7-bdfb-21e3706c1b62"
   },
   "outputs": [
    {
     "name": "stdout",
     "output_type": "stream",
     "text": [
      "Epoch 1/15\n",
      "90/90 [==============================] - 126s 1s/step - loss: 0.8819 - acc: 0.7368 - val_loss: 0.5220 - val_acc: 0.8412\n",
      "Epoch 2/15\n",
      "90/90 [==============================] - 107s 1s/step - loss: 0.6037 - acc: 0.8171 - val_loss: 0.3227 - val_acc: 0.8950\n",
      "Epoch 3/15\n",
      "90/90 [==============================] - 110s 1s/step - loss: 0.4614 - acc: 0.8605 - val_loss: 0.2719 - val_acc: 0.9199\n",
      "Epoch 4/15\n",
      "90/90 [==============================] - 108s 1s/step - loss: 0.3375 - acc: 0.8965 - val_loss: 0.1914 - val_acc: 0.9331\n",
      "Epoch 5/15\n",
      "90/90 [==============================] - 111s 1s/step - loss: 0.2787 - acc: 0.9145 - val_loss: 0.1781 - val_acc: 0.9383\n",
      "Epoch 6/15\n",
      "90/90 [==============================] - 109s 1s/step - loss: 0.2488 - acc: 0.9216 - val_loss: 0.0885 - val_acc: 0.9803\n",
      "Epoch 7/15\n",
      "90/90 [==============================] - 105s 1s/step - loss: 0.2580 - acc: 0.9141 - val_loss: 0.0799 - val_acc: 0.9764\n",
      "Epoch 8/15\n",
      "90/90 [==============================] - 108s 1s/step - loss: 0.2132 - acc: 0.9354 - val_loss: 0.1148 - val_acc: 0.9672\n",
      "Epoch 9/15\n",
      "90/90 [==============================] - 106s 1s/step - loss: 0.1918 - acc: 0.9418 - val_loss: 0.0733 - val_acc: 0.9816\n",
      "Epoch 10/15\n",
      "90/90 [==============================] - 106s 1s/step - loss: 0.1928 - acc: 0.9347 - val_loss: 0.1294 - val_acc: 0.9541\n",
      "Epoch 11/15\n",
      "90/90 [==============================] - 109s 1s/step - loss: 0.1811 - acc: 0.9458 - val_loss: 0.0535 - val_acc: 0.9816\n",
      "Epoch 12/15\n",
      "90/90 [==============================] - 105s 1s/step - loss: 0.1697 - acc: 0.9461 - val_loss: 0.0690 - val_acc: 0.9790\n",
      "Epoch 13/15\n",
      "90/90 [==============================] - 110s 1s/step - loss: 0.1343 - acc: 0.9572 - val_loss: 0.0673 - val_acc: 0.9764\n",
      "Epoch 14/15\n",
      "90/90 [==============================] - 112s 1s/step - loss: 0.1220 - acc: 0.9611 - val_loss: 0.1100 - val_acc: 0.9593\n",
      "Epoch 15/15\n",
      "90/90 [==============================] - 109s 1s/step - loss: 0.1318 - acc: 0.9565 - val_loss: 0.0429 - val_acc: 0.9882\n"
     ]
    }
   ],
   "source": [
    "fit_ = model.fit_generator(training_set, validation_data=test_set, epochs=15)"
   ]
  },
  {
   "cell_type": "markdown",
   "metadata": {},
   "source": [
    "Interpreting Obtained Results"
   ]
  },
  {
   "cell_type": "code",
   "execution_count": 73,
   "metadata": {
    "colab": {
     "base_uri": "https://localhost:8080/",
     "height": 356
    },
    "colab_type": "code",
    "id": "aFL-_M87UUkO",
    "outputId": "e1fd6f59-af3f-4d6c-cb2a-1f8e0b6f6322"
   },
   "outputs": [
    {
     "data": {
      "image/png": "[encoded data removed]",
      "text/plain": [
       "<Figure size 720x360 with 2 Axes>"
      ]
     },
     "metadata": {
      "tags": []
     },
     "output_type": "display_data"
    }
   ],
   "source": [
    "import matplotlib.pyplot as plt\n",
    "\n",
    "plt.figure(figsize=(10,5))\n",
    "plt.subplot(1, 2, 1)\n",
    "plt.suptitle('Optimizer : Adam', fontsize=10)\n",
    "plt.ylabel('Loss', fontsize=16)\n",
    "plt.plot(fit_.history['loss'], label='Training Loss')\n",
    "plt.plot(fit_.history['val_loss'], label='Validation Loss')\n",
    "plt.legend(loc='upper right')\n",
    "\n",
    "plt.subplot(1, 2, 2)\n",
    "plt.ylabel('Accuracy', fontsize=16)\n",
    "plt.plot(fit_.history['acc'], label='Training Accuracy')\n",
    "plt.plot(fit_.history['val_acc'], label='Validation Accuracy')\n",
    "plt.legend(loc='lower right')\n",
    "plt.show()"
   ]
  },
  {
   "cell_type": "code",
   "execution_count": 0,
   "metadata": {
    "colab": {},
    "colab_type": "code",
    "id": "KQ3sJTIVGU6s"
   },
   "outputs": [],
   "source": []
  },
  {
   "cell_type": "code",
   "execution_count": 0,
   "metadata": {
    "colab": {},
    "colab_type": "code",
    "id": "ZBDs845tC-oK"
   },
   "outputs": [],
   "source": []
  },
  {
   "cell_type": "code",
   "execution_count": 0,
   "metadata": {
    "colab": {},
    "colab_type": "code",
    "id": "htDgMMxDC8hg"
   },
   "outputs": [],
   "source": []
  },
  {
   "cell_type": "code",
   "execution_count": 0,
   "metadata": {
    "colab": {},
    "colab_type": "code",
    "id": "TNegvHLwCx_W"
   },
   "outputs": [],
   "source": []
  },
  {
   "cell_type": "code",
   "execution_count": 0,
   "metadata": {
    "colab": {},
    "colab_type": "code",
    "id": "mdRjwNeDNLS4"
   },
   "outputs": [],
   "source": []
  }
 ],
 "metadata": {
  "accelerator": "GPU",
  "colab": {
   "collapsed_sections": [],
   "machine_shape": "hm",
   "name": "ptm.ipynb",
   "provenance": []
  },
  "kernelspec": {
   "display_name": "Python 3",
   "language": "python",
   "name": "python3"
  },
  "language_info": {
   "codemirror_mode": {
    "name": "ipython",
    "version": 3
   },
   "file_extension": ".py",
   "mimetype": "text/x-python",
   "name": "python",
   "nbconvert_exporter": "python",
   "pygments_lexer": "ipython3",
   "version": "3.7.3"
  }
 },
 "nbformat": 4,
 "nbformat_minor": 1
}
