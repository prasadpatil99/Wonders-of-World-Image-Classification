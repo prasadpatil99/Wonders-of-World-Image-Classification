{
 "cells": [
  {
   "cell_type": "markdown",
   "metadata": {
    "colab_type": "text",
    "id": "R1h1C7fJ9zO5"
   },
   "source": [
    "### Accessing Dataset From Google Drive "
   ]
  },
  {
   "cell_type": "markdown",
   "metadata": {
    "colab_type": "text",
    "id": "h3XbAzex9zPC"
   },
   "source": [
    "Mounting GDrive and specifying path for the same"
   ]
  },
  {
   "cell_type": "code",
   "execution_count": null,
   "metadata": {},
   "outputs": [],
   "source": [
    "from pathlib import Path\n",
    "import os\n",
    "import numpy as np\n",
    "from google.colab import drive\n",
    "\n",
    "drive.mount('/content/gdrive')\n",
    "path = Path(\"/content/gdrive/My Drive/Colab Notebooks/datasetimg/Google Images/train\")"
   ]
  },
  {
   "cell_type": "code",
   "execution_count": 2,
   "metadata": {
    "colab": {
     "base_uri": "https://localhost:8080/",
     "height": 354
    },
    "colab_type": "code",
    "id": "WF3mh_yr4OJj",
    "outputId": "9089c1c1-9615-4ca6-a215-da42c1864888"
   },
   "outputs": [
    {
     "data": {
      "text/plain": [
       "['Burj Khalifa - UAE',\n",
       " 'Eiffel Tower - Paris',\n",
       " 'Machu Pichu',\n",
       " 'Great Wall Of China - China',\n",
       " 'Himalaya - India',\n",
       " 'Christ the Reedemer Statue',\n",
       " 'Chich-n Itz - Mexico',\n",
       " 'Antarctica',\n",
       " 'Giant-s Causeway',\n",
       " 'The Blue Grotto - Capri',\n",
       " 'Stonehenge',\n",
       " 'Niagara Falls',\n",
       " 'Taj Mahal - India',\n",
       " 'Pyramids Of Giza - Egypt',\n",
       " 'Venezuela Angel Falls',\n",
       " 'Santorini',\n",
       " 'Roman Colosseum - Rome',\n",
       " 'Statue Of Liberty - NYC']"
      ]
     },
     "execution_count": 2,
     "metadata": {
      "tags": []
     },
     "output_type": "execute_result"
    }
   ],
   "source": [
    "data_list = os.listdir(path)\n",
    "data_list"
   ]
  },
  {
   "cell_type": "code",
   "execution_count": 3,
   "metadata": {
    "colab": {
     "base_uri": "https://localhost:8080/",
     "height": 56
    },
    "colab_type": "code",
    "id": "uecbVmRG4UOt",
    "outputId": "8e6b80a5-b25a-44e3-b976-50dd7b1ae825"
   },
   "outputs": [
    {
     "name": "stdout",
     "output_type": "stream",
     "text": [
      "['Antarctica', 'Burj Khalifa - UAE', 'Chich-n Itz - Mexico', 'Christ the Reedemer Statue', 'Eiffel Tower - Paris', 'Giant-s Causeway', 'Great Wall Of China - China', 'Himalaya - India', 'Machu Pichu', 'Niagara Falls', 'Pyramids Of Giza - Egypt', 'Roman Colosseum - Rome', 'Santorini', 'Statue Of Liberty - NYC', 'Stonehenge', 'Taj Mahal - India', 'The Blue Grotto - Capri', 'Venezuela Angel Falls']\n"
     ]
    }
   ],
   "source": [
    "data_list.sort()\n",
    "print(data_list)"
   ]
  },
  {
   "cell_type": "code",
   "execution_count": 4,
   "metadata": {
    "colab": {
     "base_uri": "https://localhost:8080/",
     "height": 65
    },
    "colab_type": "code",
    "id": "1CymxBkD4Wz3",
    "outputId": "6443e4ae-7135-4286-b458-8facae7d0d67"
   },
   "outputs": [
    {
     "data": {
      "text/html": [
       "<p style=\"color: red;\">\n",
       "The default version of TensorFlow in Colab will soon switch to TensorFlow 2.x.<br>\n",
       "We recommend you <a href=\"https://www.tensorflow.org/guide/migrate\" target=\"_blank\">upgrade</a> now \n",
       "or ensure your notebook will continue to use TensorFlow 1.x via the <code>%tensorflow_version 1.x</code> magic:\n",
       "<a href=\"https://colab.research.google.com/notebooks/tensorflow_version.ipynb\" target=\"_blank\">more info</a>.</p>\n"
      ],
      "text/plain": [
       "<IPython.core.display.HTML object>"
      ]
     },
     "metadata": {
      "tags": []
     },
     "output_type": "display_data"
    }
   ],
   "source": [
    "import cv2\n",
    "import glob\n",
    "import tensorflow as tf\n",
    "from scipy.misc import *\n",
    "from tqdm import tqdm\n",
    "from PIL import Image\n",
    "from numpy import*\n",
    "data=[]"
   ]
  },
  {
   "cell_type": "markdown",
   "metadata": {
    "colab_type": "text",
    "id": "eg8c0S_h9zQY"
   },
   "source": [
    "Convert all images into gray scale array values "
   ]
  },
  {
   "cell_type": "code",
   "execution_count": 5,
   "metadata": {
    "colab": {
     "base_uri": "https://localhost:8080/",
     "height": 354
    },
    "colab_type": "code",
    "id": "LkeJTxa44Xov",
    "outputId": "4601ef53-7113-4382-9110-2d82a4a59bc9"
   },
   "outputs": [
    {
     "name": "stderr",
     "output_type": "stream",
     "text": [
      "100%|██████████| 256/256 [02:41<00:00,  2.75it/s]\n",
      "100%|██████████| 135/135 [00:46<00:00,  3.51it/s]\n",
      "100%|██████████| 129/129 [00:45<00:00,  2.29it/s]\n",
      "100%|██████████| 128/128 [00:41<00:00,  2.73it/s]\n",
      "100%|██████████| 245/245 [01:31<00:00,  3.08it/s]\n",
      "100%|██████████| 155/155 [00:51<00:00,  3.26it/s]\n",
      "100%|██████████| 190/190 [00:59<00:00,  4.50it/s]\n",
      "100%|██████████| 144/144 [00:48<00:00,  2.94it/s]\n",
      "100%|██████████| 155/155 [00:52<00:00,  2.87it/s]\n",
      "100%|██████████| 153/153 [00:51<00:00,  2.85it/s]\n",
      "100%|██████████| 160/160 [00:49<00:00,  3.70it/s]\n",
      "100%|██████████| 158/158 [00:53<00:00,  2.75it/s]\n",
      "100%|██████████| 191/191 [01:15<00:00,  3.51it/s]\n",
      "100%|██████████| 95/95 [00:31<00:00,  3.28it/s]\n",
      "100%|██████████| 167/167 [00:53<00:00,  2.58it/s]\n",
      "100%|██████████| 137/137 [00:44<00:00,  2.83it/s]\n",
      "100%|██████████| 136/136 [00:43<00:00,  3.11it/s]\n",
      "100%|██████████| 138/138 [00:43<00:00,  2.96it/s]\n"
     ]
    }
   ],
   "source": [
    "for category in data_list:\n",
    "    path_ = os.path.join(path,category)\n",
    "    for img in tqdm(os.listdir(path_)):\n",
    "        img_array = cv2.imread(os.path.join(path_,img) ,cv2.IMREAD_GRAYSCALE)\n",
    "        data.append([img_array,category])"
   ]
  },
  {
   "cell_type": "markdown",
   "metadata": {
    "colab_type": "text",
    "id": "x9kuosMb9zQu"
   },
   "source": [
    "Now data is in same repetitive pattern model will mislead its learning due this, hence shuffle data to avoid any circumstance"
   ]
  },
  {
   "cell_type": "code",
   "execution_count": 0,
   "metadata": {
    "colab": {},
    "colab_type": "code",
    "id": "D0wrH-6B4pHc"
   },
   "outputs": [],
   "source": [
    "import random\n",
    "\n",
    "random.shuffle(data)"
   ]
  },
  {
   "cell_type": "markdown",
   "metadata": {
    "colab_type": "text",
    "id": "c_yeoRs89zRH"
   },
   "source": [
    "Seperating feature and label "
   ]
  },
  {
   "cell_type": "code",
   "execution_count": null,
   "metadata": {},
   "outputs": [],
   "source": [
    "features = []\n",
    "labels = []\n",
    "\n",
    "for feat,label in data:\n",
    "    features.append(feat)\n",
    "    labels.append(label)"
   ]
  },
  {
   "cell_type": "markdown",
   "metadata": {
    "colab_type": "text",
    "id": "GwtH9GwH9zRb"
   },
   "source": [
    "Using label encoder to convert categorical data into numerical "
   ]
  },
  {
   "cell_type": "code",
   "execution_count": 8,
   "metadata": {
    "colab": {
     "base_uri": "https://localhost:8080/",
     "height": 54
    },
    "colab_type": "code",
    "id": "cI7CjaGC4uVE",
    "outputId": "6eedafbf-0ee9-4abe-eb11-49b01a6288e5"
   },
   "outputs": [
    {
     "name": "stdout",
     "output_type": "stream",
     "text": [
      "[ 4 12 12 11 12 15 16  6 14 10 17  6 16  7  0  8  6  2 15  7 14  8 11 13\n",
      "  6  5  5  8  4 10]\n"
     ]
    }
   ],
   "source": [
    "from sklearn import preprocessing \n",
    "label=[]\n",
    "label = np.asarray(labels)\n",
    "labels=[] \n",
    "label_encoder = preprocessing.LabelEncoder() \n",
    "labels= label_encoder.fit_transform(label)\n",
    "\n",
    "print(labels[:30])"
   ]
  },
  {
   "cell_type": "markdown",
   "metadata": {
    "colab_type": "text",
    "id": "yklp55_k9zRw"
   },
   "source": [
    "Image size may vary so resize image into 250 X 250 "
   ]
  },
  {
   "cell_type": "code",
   "execution_count": 0,
   "metadata": {
    "colab": {},
    "colab_type": "code",
    "id": "EvHMRsp14wWL"
   },
   "outputs": [],
   "source": [
    "img_array=[]\n",
    "i=[]\n",
    "width = 250\n",
    "height = 250\n",
    "for i in features:\n",
    "    resized = cv2.resize(i,(width,height), interpolation=cv2.INTER_CUBIC)\n",
    "    img_array.append(resized)"
   ]
  },
  {
   "cell_type": "markdown",
   "metadata": {
    "colab_type": "text",
    "id": "SnoCfkZF9zSH"
   },
   "source": [
    "Reshaping"
   ]
  },
  {
   "cell_type": "code",
   "execution_count": 0,
   "metadata": {
    "colab": {},
    "colab_type": "code",
    "id": "VCzLz0Qm4zQm"
   },
   "outputs": [],
   "source": [
    "img_array = np.asarray(img_array)\n",
    "img_array = img_array.reshape(len(img_array),250,250,1)"
   ]
  },
  {
   "cell_type": "markdown",
   "metadata": {
    "colab_type": "text",
    "id": "2uPzVSFJ9zSV"
   },
   "source": [
    "Let's save the structure of model till now in pickle"
   ]
  },
  {
   "cell_type": "code",
   "execution_count": 0,
   "metadata": {
    "colab": {},
    "colab_type": "code",
    "id": "AMJBxGQc-bBt"
   },
   "outputs": [],
   "source": [
    "import pickle\n",
    "x = open(\"feat.pickle\",\"wb\")\n",
    "pickle.dump(img_array, x)\n",
    "x.close()\n",
    "\n",
    "Y = open(\"label.pickle\",\"wb\")\n",
    "pickle.dump(labels, Y)\n",
    "Y.close()"
   ]
  },
  {
   "cell_type": "markdown",
   "metadata": {
    "colab_type": "text",
    "id": "mTbohQ_T9zS2"
   },
   "source": [
    "Open dumped pickle file"
   ]
  },
  {
   "cell_type": "code",
   "execution_count": 0,
   "metadata": {
    "colab": {},
    "colab_type": "code",
    "id": "0SxAs-8z-bKt"
   },
   "outputs": [],
   "source": [
    "import pickle\n",
    "pickle_in = open(\"feat.pickle\",\"rb\")\n",
    "feature = pickle.load(pickle_in)\n",
    "\n",
    "pickle_in = open(\"label.pickle\",\"rb\")\n",
    "label = pickle.load(pickle_in)"
   ]
  },
  {
   "cell_type": "markdown",
   "metadata": {
    "colab_type": "text",
    "id": "_HIbgFvz9zTH"
   },
   "source": [
    "[Rescale images](https://datascience.stackexchange.com/questions/29958/when-inputting-image-rgb-values-to-mlp-should-i-divide-by-255)"
   ]
  },
  {
   "cell_type": "code",
   "execution_count": 0,
   "metadata": {
    "colab": {},
    "colab_type": "code",
    "id": "GM9G7if_Z0y8"
   },
   "outputs": [],
   "source": [
    "feature = img_array/255.0"
   ]
  },
  {
   "cell_type": "markdown",
   "metadata": {
    "colab_type": "text",
    "id": "dfCMW_Rt9zTY"
   },
   "source": [
    "Splitting features and label into training and validation set "
   ]
  },
  {
   "cell_type": "code",
   "execution_count": 0,
   "metadata": {
    "colab": {},
    "colab_type": "code",
    "id": "g32ZtdVdRHs2"
   },
   "outputs": [],
   "source": [
    "from sklearn.model_selection import train_test_split\n",
    "X_train, X_val, Y_train, Y_val = train_test_split(feature, labels , test_size = 0.2, random_state=42)"
   ]
  },
  {
   "cell_type": "code",
   "execution_count": 0,
   "metadata": {
    "colab": {},
    "colab_type": "code",
    "id": "66McDrHpRH1T"
   },
   "outputs": [],
   "source": [
    "\n",
    "from tensorflow.keras.layers import BatchNormalization\n",
    "from tensorflow.keras.preprocessing.image import ImageDataGenerator\n",
    "from tensorflow.keras.callbacks import ReduceLROnPlateau\n",
    "datagen = ImageDataGenerator(\n",
    "        featurewise_center=False,  # set input mean to 0 over the dataset\n",
    "        samplewise_center=False,  # set each sample mean to 0\n",
    "        featurewise_std_normalization=False,  # divide inputs by std of the dataset\n",
    "        samplewise_std_normalization=False,  # divide each input by its std\n",
    "        zca_whitening=False,  # apply ZCA whitening\n",
    "        rotation_range=10, # randomly rotate images in the range (degrees, 0 to 180)\n",
    "        zoom_range = 0.1, # Randomly zoom image \n",
    "        width_shift_range=0.1,  # randomly shift images horizontally \n",
    "        height_shift_range=0.1,  # randomly shift images vertically \n",
    "        horizontal_flip=False,  # randomly flip images\n",
    "        vertical_flip=False)  # randomly flip images\n",
    "\n",
    "datagen.fit(X_train)  # fitting X_train "
   ]
  },
  {
   "cell_type": "code",
   "execution_count": 16,
   "metadata": {
    "colab": {
     "base_uri": "https://localhost:8080/",
     "height": 93
    },
    "colab_type": "code",
    "id": "r04CM-NcRIm3",
    "outputId": "8341a99a-894d-45e0-c034-e44f1c195f55"
   },
   "outputs": [
    {
     "name": "stdout",
     "output_type": "stream",
     "text": [
      "WARNING:tensorflow:From /usr/local/lib/python3.6/dist-packages/tensorflow_core/python/ops/resource_variable_ops.py:1630: calling BaseResourceVariable.__init__ (from tensorflow.python.ops.resource_variable_ops) with constraint is deprecated and will be removed in a future version.\n",
      "Instructions for updating:\n",
      "If using Keras pass *_constraint arguments to layers.\n"
     ]
    }
   ],
   "source": [
    "\n",
    "import tensorflow as tf\n",
    "from tensorflow.keras.datasets import cifar10\n",
    "from tensorflow.keras.preprocessing.image import ImageDataGenerator\n",
    "from tensorflow.keras.models import Sequential\n",
    "from tensorflow.keras.layers import Dense, Dropout, Activation, Flatten, BatchNormalization\n",
    "from tensorflow.keras.layers import Conv2D, MaxPooling2D\n",
    "\n",
    "model = Sequential()\n",
    "\n",
    "model.add(Conv2D(180,kernel_size=(3,3),activation='relu',input_shape=(250,250,1)))\n",
    "model.add(Conv2D(150,kernel_size=(3,3),activation='relu'))\n",
    "model.add(MaxPooling2D(5,5))\n",
    "model.add(Dropout(rate=0.3))   \n",
    "model.add(Conv2D(110,kernel_size=(3,3),activation='relu'))\n",
    "model.add(MaxPooling2D(5,5))\n",
    "model.add(Conv2D(80,kernel_size=(3,3),activation='relu'))\n",
    "model.add(Flatten())\n",
    "model.add(Dense(80,activation='relu'))\n",
    "model.add(Dense(60,activation='relu'))\n",
    "model.add(Dropout(rate=0.3))\n",
    "model.add(Dense(45,activation='relu'))\n",
    "model.add(Dropout(rate=0.5))\n",
    "model.add(Dense(18,activation='softmax'))\n",
    "\n",
    "model.compile(optimizer='adam',loss='sparse_categorical_crossentropy',metrics=['accuracy'])"
   ]
  },
  {
   "cell_type": "markdown",
   "metadata": {
    "colab_type": "text",
    "id": "XB0deZD-9zT_"
   },
   "source": [
    "ReduceLROnPlateau provide feature of updating learning rate whenever training score is not progressing forward"
   ]
  },
  {
   "cell_type": "code",
   "execution_count": 0,
   "metadata": {
    "colab": {},
    "colab_type": "code",
    "id": "hdnGOSAPRHn1"
   },
   "outputs": [],
   "source": [
    "from tensorflow.keras.callbacks import ReduceLROnPlateau\n",
    "learning_rate_reduction = ReduceLROnPlateau(monitor='val_acc',   # quality to be monitored \n",
    "                                            patience=3,          # no improvement after learning rate will be reduced\n",
    "                                            verbose=1,           # update message\n",
    "                                            factor=0.5,          # reducing learning rate \n",
    "                                            min_lr=0.000005)      # learning rate"
   ]
  },
  {
   "cell_type": "code",
   "execution_count": 24,
   "metadata": {
    "colab": {
     "base_uri": "https://localhost:8080/",
     "height": 1000
    },
    "colab_type": "code",
    "id": "Mk-LaN_f9zUb",
    "outputId": "d80ff6d3-13d3-4877-e875-7cac7077f1ac"
   },
   "outputs": [
    {
     "name": "stdout",
     "output_type": "stream",
     "text": [
      "Epoch 1/30\n",
      "51/52 [============================>.] - ETA: 2s - loss: 2.8114 - acc: 0.1106Epoch 1/30\n",
      "575/52 [===========================================================================================================================================================================================================================================================================================================================================] - 8s 14ms/sample - loss: 2.7050 - acc: 0.1357\n",
      "52/52 [==============================] - 129s 2s/step - loss: 2.8121 - acc: 0.1110 - val_loss: 2.7500 - val_acc: 0.1357\n",
      "Epoch 2/30\n",
      "51/52 [============================>.] - ETA: 2s - loss: 2.8194 - acc: 0.1128Epoch 1/30\n",
      "575/52 [===========================================================================================================================================================================================================================================================================================================================================] - 8s 14ms/sample - loss: 2.6605 - acc: 0.1409\n",
      "52/52 [==============================] - 129s 2s/step - loss: 2.8200 - acc: 0.1136 - val_loss: 2.7199 - val_acc: 0.1409\n",
      "Epoch 3/30\n",
      "51/52 [============================>.] - ETA: 2s - loss: 2.7389 - acc: 0.1554Epoch 1/30\n",
      "575/52 [===========================================================================================================================================================================================================================================================================================================================================] - 8s 14ms/sample - loss: 2.6677 - acc: 0.1600\n",
      "52/52 [==============================] - 129s 2s/step - loss: 2.7381 - acc: 0.1545 - val_loss: 2.6842 - val_acc: 0.1600\n",
      "Epoch 4/30\n",
      "51/52 [============================>.] - ETA: 2s - loss: 2.6620 - acc: 0.1661Epoch 1/30\n",
      "575/52 [===========================================================================================================================================================================================================================================================================================================================================] - 8s 14ms/sample - loss: 2.5889 - acc: 0.1687\n",
      "52/52 [==============================] - 129s 2s/step - loss: 2.6598 - acc: 0.1672 - val_loss: 2.6016 - val_acc: 0.1687\n",
      "Epoch 5/30\n",
      "51/52 [============================>.] - ETA: 2s - loss: 2.6744 - acc: 0.1705Epoch 1/30\n",
      "575/52 [===========================================================================================================================================================================================================================================================================================================================================] - 8s 14ms/sample - loss: 2.5117 - acc: 0.2209\n",
      "52/52 [==============================] - 130s 2s/step - loss: 2.6713 - acc: 0.1711 - val_loss: 2.5059 - val_acc: 0.2209\n",
      "Epoch 6/30\n",
      "51/52 [============================>.] - ETA: 2s - loss: 2.5263 - acc: 0.2043Epoch 1/30\n",
      "575/52 [===========================================================================================================================================================================================================================================================================================================================================] - 8s 14ms/sample - loss: 2.4306 - acc: 0.2296\n",
      "52/52 [==============================] - 129s 2s/step - loss: 2.5307 - acc: 0.2024 - val_loss: 2.4129 - val_acc: 0.2296\n",
      "Epoch 7/30\n",
      "51/52 [============================>.] - ETA: 2s - loss: 2.4774 - acc: 0.2207Epoch 1/30\n",
      "575/52 [===========================================================================================================================================================================================================================================================================================================================================] - 8s 14ms/sample - loss: 2.3475 - acc: 0.2417\n",
      "52/52 [==============================] - 129s 2s/step - loss: 2.4763 - acc: 0.2212 - val_loss: 2.3686 - val_acc: 0.2417\n",
      "Epoch 8/30\n",
      "51/52 [============================>.] - ETA: 2s - loss: 2.4211 - acc: 0.2305Epoch 1/30\n",
      "575/52 [===========================================================================================================================================================================================================================================================================================================================================] - 8s 14ms/sample - loss: 2.2809 - acc: 0.2626\n",
      "52/52 [==============================] - 129s 2s/step - loss: 2.4209 - acc: 0.2316 - val_loss: 2.2804 - val_acc: 0.2626\n",
      "Epoch 9/30\n",
      "51/52 [============================>.] - ETA: 2s - loss: 2.3894 - acc: 0.2500Epoch 1/30\n",
      "575/52 [===========================================================================================================================================================================================================================================================================================================================================] - 8s 14ms/sample - loss: 2.2517 - acc: 0.2939\n",
      "52/52 [==============================] - 129s 2s/step - loss: 2.3863 - acc: 0.2503 - val_loss: 2.2422 - val_acc: 0.2939\n",
      "Epoch 10/30\n",
      "51/52 [============================>.] - ETA: 2s - loss: 2.3061 - acc: 0.2766Epoch 1/30\n",
      "575/52 [===========================================================================================================================================================================================================================================================================================================================================] - 8s 14ms/sample - loss: 2.1734 - acc: 0.3061\n",
      "52/52 [==============================] - 129s 2s/step - loss: 2.3060 - acc: 0.2769 - val_loss: 2.0915 - val_acc: 0.3061\n",
      "Epoch 11/30\n",
      "51/52 [============================>.] - ETA: 2s - loss: 2.2078 - acc: 0.3099Epoch 1/30\n",
      "575/52 [===========================================================================================================================================================================================================================================================================================================================================] - 8s 14ms/sample - loss: 2.1107 - acc: 0.3304\n",
      "52/52 [==============================] - 130s 2s/step - loss: 2.2064 - acc: 0.3095 - val_loss: 2.0216 - val_acc: 0.3304\n",
      "Epoch 12/30\n",
      "51/52 [============================>.] - ETA: 2s - loss: 2.0964 - acc: 0.3273Epoch 1/30\n",
      "575/52 [===========================================================================================================================================================================================================================================================================================================================================] - 8s 13ms/sample - loss: 1.9876 - acc: 0.4017\n",
      "52/52 [==============================] - 129s 2s/step - loss: 2.0969 - acc: 0.3283 - val_loss: 1.8989 - val_acc: 0.4017\n",
      "Epoch 13/30\n",
      "51/52 [============================>.] - ETA: 2s - loss: 2.0246 - acc: 0.3384Epoch 1/30\n",
      "575/52 [===========================================================================================================================================================================================================================================================================================================================================] - 8s 13ms/sample - loss: 1.9926 - acc: 0.4435\n",
      "52/52 [==============================] - 130s 2s/step - loss: 2.0265 - acc: 0.3383 - val_loss: 1.8804 - val_acc: 0.4435\n",
      "Epoch 14/30\n",
      "51/52 [============================>.] - ETA: 2s - loss: 1.9748 - acc: 0.3726Epoch 1/30\n",
      "575/52 [===========================================================================================================================================================================================================================================================================================================================================] - 8s 13ms/sample - loss: 1.8504 - acc: 0.4522\n",
      "52/52 [==============================] - 130s 2s/step - loss: 1.9752 - acc: 0.3722 - val_loss: 1.7549 - val_acc: 0.4522\n",
      "Epoch 15/30\n",
      "51/52 [============================>.] - ETA: 2s - loss: 1.9023 - acc: 0.3983Epoch 1/30\n",
      "575/52 [===========================================================================================================================================================================================================================================================================================================================================] - 8s 13ms/sample - loss: 1.8503 - acc: 0.4713\n",
      "52/52 [==============================] - 130s 2s/step - loss: 1.9025 - acc: 0.4010 - val_loss: 1.7449 - val_acc: 0.4713\n",
      "Epoch 16/30\n",
      "51/52 [============================>.] - ETA: 2s - loss: 1.8867 - acc: 0.4170Epoch 1/30\n",
      "575/52 [===========================================================================================================================================================================================================================================================================================================================================] - 8s 14ms/sample - loss: 1.7832 - acc: 0.4870\n",
      "52/52 [==============================] - 130s 2s/step - loss: 1.8826 - acc: 0.4188 - val_loss: 1.6712 - val_acc: 0.4870\n",
      "Epoch 17/30\n",
      "51/52 [============================>.] - ETA: 2s - loss: 1.8217 - acc: 0.4232Epoch 1/30\n",
      "575/52 [===========================================================================================================================================================================================================================================================================================================================================] - 8s 13ms/sample - loss: 1.6652 - acc: 0.4991\n",
      "52/52 [==============================] - 130s 2s/step - loss: 1.8224 - acc: 0.4232 - val_loss: 1.5864 - val_acc: 0.4991\n",
      "Epoch 18/30\n",
      "51/52 [============================>.] - ETA: 2s - loss: 1.8615 - acc: 0.4201Epoch 1/30\n",
      "575/52 [===========================================================================================================================================================================================================================================================================================================================================] - 8s 14ms/sample - loss: 1.7841 - acc: 0.5026\n",
      "52/52 [==============================] - 130s 2s/step - loss: 1.8588 - acc: 0.4210 - val_loss: 1.6821 - val_acc: 0.5026\n",
      "Epoch 19/30\n",
      "51/52 [============================>.] - ETA: 2s - loss: 1.7642 - acc: 0.4374Epoch 1/30\n",
      "575/52 [===========================================================================================================================================================================================================================================================================================================================================] - 8s 13ms/sample - loss: 1.5814 - acc: 0.5391\n",
      "52/52 [==============================] - 129s 2s/step - loss: 1.7613 - acc: 0.4384 - val_loss: 1.5000 - val_acc: 0.5391\n",
      "Epoch 20/30\n",
      "51/52 [============================>.] - ETA: 2s - loss: 1.6482 - acc: 0.4734Epoch 1/30\n",
      "575/52 [===========================================================================================================================================================================================================================================================================================================================================] - 8s 13ms/sample - loss: 1.7059 - acc: 0.5130\n",
      "52/52 [==============================] - 129s 2s/step - loss: 1.6447 - acc: 0.4741 - val_loss: 1.5938 - val_acc: 0.5130\n",
      "Epoch 21/30\n",
      "51/52 [============================>.] - ETA: 2s - loss: 1.6163 - acc: 0.4898Epoch 1/30\n",
      "575/52 [===========================================================================================================================================================================================================================================================================================================================================] - 8s 13ms/sample - loss: 1.6547 - acc: 0.5217\n",
      "52/52 [==============================] - 129s 2s/step - loss: 1.6151 - acc: 0.4889 - val_loss: 1.5254 - val_acc: 0.5217\n",
      "Epoch 22/30\n",
      "51/52 [============================>.] - ETA: 2s - loss: 1.5037 - acc: 0.5169Epoch 1/30\n",
      "575/52 [===========================================================================================================================================================================================================================================================================================================================================] - 8s 14ms/sample - loss: 1.5171 - acc: 0.5670\n",
      "52/52 [==============================] - 130s 2s/step - loss: 1.5097 - acc: 0.5155 - val_loss: 1.4647 - val_acc: 0.5670\n",
      "Epoch 23/30\n",
      "51/52 [============================>.] - ETA: 2s - loss: 1.6011 - acc: 0.4911Epoch 1/30\n",
      "575/52 [===========================================================================================================================================================================================================================================================================================================================================] - 8s 14ms/sample - loss: 1.4473 - acc: 0.6139\n",
      "52/52 [==============================] - 129s 2s/step - loss: 1.5961 - acc: 0.4919 - val_loss: 1.3086 - val_acc: 0.6139\n",
      "Epoch 24/30\n",
      "51/52 [============================>.] - ETA: 2s - loss: 1.4737 - acc: 0.5226Epoch 1/30\n",
      "575/52 [===========================================================================================================================================================================================================================================================================================================================================] - 8s 13ms/sample - loss: 1.4332 - acc: 0.6070\n",
      "52/52 [==============================] - 129s 2s/step - loss: 1.4724 - acc: 0.5215 - val_loss: 1.2976 - val_acc: 0.6070\n",
      "Epoch 25/30\n",
      "51/52 [============================>.] - ETA: 2s - loss: 1.5285 - acc: 0.5209Epoch 1/30\n",
      "575/52 [===========================================================================================================================================================================================================================================================================================================================================] - 8s 13ms/sample - loss: 1.4132 - acc: 0.6070\n",
      "52/52 [==============================] - 128s 2s/step - loss: 1.5216 - acc: 0.5233 - val_loss: 1.3028 - val_acc: 0.6070\n",
      "Epoch 26/30\n",
      "51/52 [============================>.] - ETA: 2s - loss: 1.4801 - acc: 0.5315Epoch 1/30\n",
      "575/52 [===========================================================================================================================================================================================================================================================================================================================================] - 8s 13ms/sample - loss: 1.4305 - acc: 0.5983\n",
      "\n",
      "Epoch 00026: ReduceLROnPlateau reducing learning rate to 0.0005000000237487257.\n",
      "52/52 [==============================] - 128s 2s/step - loss: 1.4797 - acc: 0.5311 - val_loss: 1.3338 - val_acc: 0.5983\n",
      "Epoch 27/30\n",
      "51/52 [============================>.] - ETA: 2s - loss: 1.3961 - acc: 0.5524Epoch 1/30\n",
      "575/52 [===========================================================================================================================================================================================================================================================================================================================================] - 8s 13ms/sample - loss: 1.3663 - acc: 0.5983\n",
      "52/52 [==============================] - 128s 2s/step - loss: 1.3946 - acc: 0.5520 - val_loss: 1.2948 - val_acc: 0.5983\n",
      "Epoch 28/30\n",
      "51/52 [============================>.] - ETA: 2s - loss: 1.3291 - acc: 0.5684Epoch 1/30\n",
      "575/52 [===========================================================================================================================================================================================================================================================================================================================================] - 8s 13ms/sample - loss: 1.3486 - acc: 0.6191\n",
      "52/52 [==============================] - 127s 2s/step - loss: 1.3292 - acc: 0.5664 - val_loss: 1.2475 - val_acc: 0.6191\n",
      "Epoch 29/30\n",
      "51/52 [============================>.] - ETA: 2s - loss: 1.3183 - acc: 0.5835Epoch 1/30\n",
      "575/52 [===========================================================================================================================================================================================================================================================================================================================================] - 8s 13ms/sample - loss: 1.3808 - acc: 0.6052\n",
      "52/52 [==============================] - 128s 2s/step - loss: 1.3224 - acc: 0.5816 - val_loss: 1.3068 - val_acc: 0.6052\n",
      "Epoch 30/30\n",
      "51/52 [============================>.] - ETA: 2s - loss: 1.3115 - acc: 0.5986Epoch 1/30\n",
      "575/52 [===========================================================================================================================================================================================================================================================================================================================================] - 8s 13ms/sample - loss: 1.3134 - acc: 0.6330\n",
      "52/52 [==============================] - 128s 2s/step - loss: 1.3199 - acc: 0.5964 - val_loss: 1.2252 - val_acc: 0.6330\n"
     ]
    }
   ],
   "source": [
    "fitting = model.fit_generator(datagen.flow(X_train, Y_train, batch_size = 45),\n",
    "                              epochs = 30, validation_data = (X_val, Y_val),\n",
    "                              verbose = 1, callbacks = [learning_rate_reduction])"
   ]
  },
  {
   "cell_type": "code",
   "execution_count": 27,
   "metadata": {
    "colab": {
     "base_uri": "https://localhost:8080/",
     "height": 356
    },
    "colab_type": "code",
    "id": "Rq-6c5pQJgYS",
    "outputId": "3ef15c83-0fb8-403e-e300-d85f835626ce"
   },
   "outputs": [
    {
     "data": {
      "image/png": "[encoded data removed]",
      "text/plain": [
       "<Figure size 720x360 with 2 Axes>"
      ]
     },
     "metadata": {
      "tags": []
     },
     "output_type": "display_data"
    }
   ],
   "source": [
    "import matplotlib.pyplot as plt\n",
    "\n",
    "plt.figure(figsize=(10,5))\n",
    "plt.subplot(1, 2, 1)\n",
    "plt.suptitle('Optimizer : Adam', fontsize=10)\n",
    "plt.ylabel('Loss', fontsize=16)\n",
    "plt.plot(fitting.history['loss'], label='Training Loss')\n",
    "plt.plot(fitting.history['val_loss'], label='Validation Loss')\n",
    "plt.legend(loc='upper right')\n",
    "\n",
    "plt.subplot(1, 2, 2)\n",
    "plt.ylabel('Accuracy', fontsize=16)\n",
    "plt.plot(fitting.history['acc'], label='Training Accuracy')\n",
    "plt.plot(fitting.history['val_acc'], label='Validation Accuracy')\n",
    "plt.legend(loc='lower right')\n",
    "plt.show()"
   ]
  }
 ],
 "metadata": {
  "accelerator": "GPU",
  "colab": {
   "collapsed_sections": [],
   "machine_shape": "hm",
   "name": "CNN.ipynb",
   "provenance": []
  },
  "kernelspec": {
   "display_name": "Python 3",
   "language": "python",
   "name": "python3"
  },
  "language_info": {
   "codemirror_mode": {
    "name": "ipython",
    "version": 3
   },
   "file_extension": ".py",
   "mimetype": "text/x-python",
   "name": "python",
   "nbconvert_exporter": "python",
   "pygments_lexer": "ipython3",
   "version": "3.7.3"
  }
 },
 "nbformat": 4,
 "nbformat_minor": 1
}
